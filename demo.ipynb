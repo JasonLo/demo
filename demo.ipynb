{
  "nbformat": 4,
  "nbformat_minor": 0,
  "metadata": {
    "colab": {
      "name": "demo.ipynb",
      "provenance": [],
      "collapsed_sections": [
        "BkvF1Z2fwJFg"
      ],
      "authorship_tag": "ABX9TyMP4FuqG++sReFhCfm94tWe",
      "include_colab_link": true
    },
    "kernelspec": {
      "name": "python3",
      "display_name": "Python 3"
    },
    "accelerator": "GPU"
  },
  "cells": [
    {
      "cell_type": "markdown",
      "metadata": {
        "id": "view-in-github",
        "colab_type": "text"
      },
      "source": [
        "<a href=\"https://colab.research.google.com/github/JasonLo/demo/blob/master/demo.ipynb\" target=\"_parent\"><img src=\"https://colab.research.google.com/assets/colab-badge.svg\" alt=\"Open In Colab\"/></a>"
      ]
    },
    {
      "cell_type": "markdown",
      "metadata": {
        "id": "YKwpYy5eWG1E",
        "colab_type": "text"
      },
      "source": [
        "# Tensorflow O-to-P model demo\n",
        "\n",
        "Three steps:\n",
        "1. Preparation\n",
        "2. Modeling\n",
        "3. Visualisation"
      ]
    },
    {
      "cell_type": "markdown",
      "metadata": {
        "id": "VdKHUSmrXCbl",
        "colab_type": "text"
      },
      "source": [
        "# Preparation"
      ]
    },
    {
      "cell_type": "markdown",
      "metadata": {
        "id": "EZaggmN7dvd3",
        "colab_type": "text"
      },
      "source": [
        "## Ingest/tidying data"
      ]
    },
    {
      "cell_type": "markdown",
      "metadata": {
        "id": "UHMFyUkRXl-U",
        "colab_type": "text"
      },
      "source": [
        "Download file from my repository\n",
        "\n",
        "You can use any bash command with a **!**\n",
        "\n",
        "Let's check demo folder is already downloaded to my virtual disk"
      ]
    },
    {
      "cell_type": "code",
      "metadata": {
        "id": "BKL5JlirWFIu",
        "colab_type": "code",
        "outputId": "7156c88a-1b8e-4f1a-c8ec-2f38b84a7438",
        "colab": {
          "base_uri": "https://localhost:8080/",
          "height": 52
        }
      },
      "source": [
        "!git clone https://github.com/JasonLo/demo.git\n",
        "!ls"
      ],
      "execution_count": 30,
      "outputs": [
        {
          "output_type": "stream",
          "text": [
            "fatal: destination path 'demo' already exists and is not an empty directory.\n",
            "demo  sample_data\n"
          ],
          "name": "stdout"
        }
      ]
    },
    {
      "cell_type": "markdown",
      "metadata": {
        "id": "A-sdojx4Nptv",
        "colab_type": "text"
      },
      "source": [
        "Using pandas to tidy data \n"
      ]
    },
    {
      "cell_type": "code",
      "metadata": {
        "id": "NvnbC8AGN0wX",
        "colab_type": "code",
        "colab": {}
      },
      "source": [
        "import pandas as pd"
      ],
      "execution_count": 0,
      "outputs": []
    },
    {
      "cell_type": "markdown",
      "metadata": {
        "id": "0VNKoxZeZHfi",
        "colab_type": "text"
      },
      "source": [
        "Items.csv is from English lexicon project https://elexicon.wustl.edu/index.html\n",
        "- Items are all one syllable word\n",
        "- With some extra columns, we are going to use:\n",
        "    - \"Word\" = the word itself\n",
        "    - \"Pron\" = pronunciation\n",
        "    - \"SUBTLWF\" = Subtitle frequency\n",
        "    - \"Age_Of_Acquisition\" = Age of acquisition\n",
        "\n",
        "Let's read this file disk, and see the variable names"
      ]
    },
    {
      "cell_type": "code",
      "metadata": {
        "id": "v8SRiQ41OPmv",
        "colab_type": "code",
        "outputId": "f4246a59-0ea9-43ae-97ce-a9c448504a0f",
        "colab": {
          "base_uri": "https://localhost:8080/",
          "height": 105
        }
      },
      "source": [
        "raw = pd.read_csv('demo/Items.csv', index_col=None, na_values='#', thousands=',')\n",
        "raw.columns"
      ],
      "execution_count": 32,
      "outputs": [
        {
          "output_type": "execute_result",
          "data": {
            "text/plain": [
              "Index(['Word', 'Length', 'SUBTLWF', 'Ortho_N', 'Concreteness_Rating',\n",
              "       'Semantic_Neighbors', 'Semantic_Diversity', 'Age_Of_Acquisition',\n",
              "       'Pron', 'NSyll', 'I_NMG_Mean_RT', 'I_NMG_Zscore',\n",
              "       'I_NMG_Mean_Accuracy'],\n",
              "      dtype='object')"
            ]
          },
          "metadata": {
            "tags": []
          },
          "execution_count": 32
        }
      ]
    },
    {
      "cell_type": "markdown",
      "metadata": {
        "id": "pVBKXADcZMYf",
        "colab_type": "text"
      },
      "source": [
        "Select useful columns, and check some examples\n"
      ]
    },
    {
      "cell_type": "code",
      "metadata": {
        "id": "xl5fQNJrbqVN",
        "colab_type": "code",
        "outputId": "867a06a0-c56d-4910-9295-d371043b0481",
        "colab": {
          "base_uri": "https://localhost:8080/",
          "height": 263
        }
      },
      "source": [
        "df = raw[['Word', 'Pron', 'SUBTLWF', 'Age_Of_Acquisition']]\n",
        "df = df.rename(columns={'Word':'word', 'Pron': 'p', 'SUBTLWF':'wf', 'Age_Of_Acquisition':'aoa'})\n",
        "df.head"
      ],
      "execution_count": 33,
      "outputs": [
        {
          "output_type": "execute_result",
          "data": {
            "text/plain": [
              "<bound method NDFrame.head of         word        p        wf    aoa\n",
              "0          a       \"e  20415.27  2.893\n",
              "1        Abe      \"eb       NaN    NaN\n",
              "2        ace      \"es     14.73  8.830\n",
              "3       ache      \"ek      2.49  5.790\n",
              "4      ached     \"ekt      0.31  5.790\n",
              "...      ...      ...       ...    ...\n",
              "9515    zips    z\"Ips      0.33    NaN\n",
              "9516  zonked   z\"ANkt      0.25    NaN\n",
              "9517  zoomed    z\"umd      0.18    NaN\n",
              "9518    zoos     z\"uz      0.76    NaN\n",
              "9519  ZOUNDS  z\"aUndz      0.10    NaN\n",
              "\n",
              "[9520 rows x 4 columns]>"
            ]
          },
          "metadata": {
            "tags": []
          },
          "execution_count": 33
        }
      ]
    },
    {
      "cell_type": "markdown",
      "metadata": {
        "id": "aehEIcWuZjVE",
        "colab_type": "text"
      },
      "source": [
        "Some words don't have word frequncy info or age of acquisition info, just throw them away... Also, letters are cased, covert all to lower case "
      ]
    },
    {
      "cell_type": "code",
      "metadata": {
        "id": "o7h0uGvkZgxB",
        "colab_type": "code",
        "outputId": "cffb469d-3993-4c87-9232-3eb5ee261b9f",
        "colab": {
          "base_uri": "https://localhost:8080/",
          "height": 263
        }
      },
      "source": [
        "df = df.dropna()\n",
        "df = df.reset_index(drop=True)\n",
        "df['index'] = df.index\n",
        "df.head"
      ],
      "execution_count": 34,
      "outputs": [
        {
          "output_type": "execute_result",
          "data": {
            "text/plain": [
              "<bound method NDFrame.head of        word      p        wf    aoa  index\n",
              "0         a     \"e  20415.27  2.893      0\n",
              "1       ace    \"es     14.73  8.830      1\n",
              "2      ache    \"ek      2.49  5.790      2\n",
              "3     ached   \"ekt      0.31  5.790      3\n",
              "4     aches   \"eks      1.51  5.790      4\n",
              "...     ...    ...       ...    ...    ...\n",
              "5536  zoned  z\"ond      0.35  8.790   5536\n",
              "5537  zones  z\"onz      1.76  8.790   5537\n",
              "5538    zoo    z\"u     13.65  3.750   5538\n",
              "5539   zoom   z\"um      3.55  8.570   5539\n",
              "5540  zooms  z\"umz      0.06  8.570   5540\n",
              "\n",
              "[5541 rows x 5 columns]>"
            ]
          },
          "metadata": {
            "tags": []
          },
          "execution_count": 34
        }
      ]
    },
    {
      "cell_type": "markdown",
      "metadata": {
        "id": "9AwP4kKrb7Si",
        "colab_type": "text"
      },
      "source": [
        "Good enough for demo purpose..."
      ]
    },
    {
      "cell_type": "markdown",
      "metadata": {
        "id": "nTmituqydljL",
        "colab_type": "text"
      },
      "source": [
        "## Representation encoding\n",
        "- In O: \n",
        "    - letter by letter one-hot, slot based\n",
        "- In P: source file pronounciation is encoded in sampa: http://www.phon.ucl.ac.uk/home/sampa\n",
        "    - For simplicity sake, just use the same slot based one-hot encoding\n"
      ]
    },
    {
      "cell_type": "code",
      "metadata": {
        "id": "lMLnMoQ9fi8b",
        "colab_type": "code",
        "outputId": "2a641cec-ae97-4dc2-f26b-f57ddc3cad6d",
        "colab": {
          "base_uri": "https://localhost:8080/",
          "height": 107
        }
      },
      "source": [
        "%tensorflow_version 2.x\n",
        "from tensorflow.keras.preprocessing.text import Tokenizer\n",
        "from tensorflow.keras.preprocessing.sequence import pad_sequences\n",
        "from tensorflow.keras.utils import to_categorical\n",
        "\n",
        "# Extract words for easy access\n",
        "words = list(df.word)\n",
        "pron = list(df.p)\n",
        "\n",
        "# Build letter tokenizer based on words\n",
        "token_o = Tokenizer(char_level=True)\n",
        "token_o.fit_on_texts(words)\n",
        "print('Letter dictionary:', token_o.word_index)\n",
        "\n",
        "token_p = Tokenizer(filters='', char_level=True, lower=False) # This is quite wrong... Should hand craft a dictionary instead.\n",
        "token_p.fit_on_texts(pron)\n",
        "print('(Wrong) SAMPA dictionary:', token_p.word_index)\n",
        "\n",
        "# Use number to represent letter\n",
        "word_seq = token_o.texts_to_sequences(words)\n",
        "pron_seq = token_p.texts_to_sequences(pron)\n",
        "\n",
        "# Since each word have different length, we need to pad it to keep the input consistent in shape\n",
        "word_padseq = pad_sequences(word_seq)\n",
        "pron_padseq = pad_sequences(pron_seq)\n",
        "\n",
        "# One-hot encoding\n",
        "ort_adult = to_categorical(word_padseq)\n",
        "pho_adult = to_categorical(pron_padseq)\n",
        "\n",
        "# Dimensions\n",
        "print(f'Orthographic representation dimensions: {ort_adult.shape}')\n",
        "print(f'Phonological representation dimensions: {pho_adult.shape}')"
      ],
      "execution_count": 35,
      "outputs": [
        {
          "output_type": "stream",
          "text": [
            "Letter dictionary: {'e': 1, 's': 2, 'a': 3, 'r': 4, 't': 5, 'o': 6, 'd': 7, 'l': 8, 'i': 9, 'n': 10, 'h': 11, 'c': 12, 'p': 13, 'u': 14, 'g': 15, 'm': 16, 'b': 17, 'k': 18, 'w': 19, 'f': 20, 'v': 21, 'y': 22, 'z': 23, 'q': 24, 'j': 25, 'x': 26}\n",
            "(Wrong) SAMPA dictionary: {'\"': 1, 's': 2, 't': 3, 'r': 4, 'l': 5, 'd': 6, 'k': 7, 'a': 8, 'I': 9, 'z': 10, 'p': 11, 'n': 12, 'm': 13, 'b': 14, 'f': 15, 'e': 16, 'S': 17, 'E': 18, 'V': 19, 'O': 20, 'i': 21, 'A': 22, 'g': 23, 'o': 24, 'w': 25, 'u': 26, 'h': 27, 'U': 28, '`': 29, 'v': 30, '3': 31, 'Z': 32, 'N': 33, 'T': 34, '@': 35, 'j': 36, 'D': 37, 'R': 38, 'H': 39}\n",
            "Orthographic representation dimensions: (5541, 9, 27)\n",
            "Phonological representation dimensions: (5541, 9, 40)\n"
          ],
          "name": "stdout"
        }
      ]
    },
    {
      "cell_type": "markdown",
      "metadata": {
        "id": "ZPTxca4UWCIB",
        "colab_type": "text"
      },
      "source": [
        "We can combine 2nd and 3rd dimension"
      ]
    },
    {
      "cell_type": "code",
      "metadata": {
        "id": "9UJzOdqvUEcv",
        "colab_type": "code",
        "colab": {}
      },
      "source": [
        "import numpy as np\n",
        "ort_adult = ort_adult.reshape(5541, 9*27)\n",
        "pho_adult = pho_adult.reshape(5541, 9*40)"
      ],
      "execution_count": 0,
      "outputs": []
    },
    {
      "cell_type": "markdown",
      "metadata": {
        "id": "vV-lwOJaymbv",
        "colab_type": "text"
      },
      "source": [
        "Print example for illustration: Orthographic representation"
      ]
    },
    {
      "cell_type": "code",
      "metadata": {
        "id": "Ioa3_QDVymH2",
        "colab_type": "code",
        "outputId": "db3ce9c8-85e6-4f05-8751-a0fc2c44a948",
        "colab": {
          "base_uri": "https://localhost:8080/",
          "height": 263
        }
      },
      "source": [
        "wid = 100  # Select a word (anything less then )\n",
        "print(f'The word is: {words[wid]}')\n",
        "print(f'Using number to represent a letter, it becomes: {word_seq[wid]}')\n",
        "print(f'Padding it to maximum length of word (9): {word_padseq[wid]}')\n",
        "print(f'One-hot encoding: {ort_adult[wid]}')"
      ],
      "execution_count": 37,
      "outputs": [
        {
          "output_type": "stream",
          "text": [
            "The word is: banked\n",
            "Using number to represent a letter, it becomes: [17, 3, 10, 18, 1, 7]\n",
            "Padding it to maximum length of word (9): [ 0  0  0 17  3 10 18  1  7]\n",
            "One-hot encoding: [1. 0. 0. 0. 0. 0. 0. 0. 0. 0. 0. 0. 0. 0. 0. 0. 0. 0. 0. 0. 0. 0. 0. 0.\n",
            " 0. 0. 0. 1. 0. 0. 0. 0. 0. 0. 0. 0. 0. 0. 0. 0. 0. 0. 0. 0. 0. 0. 0. 0.\n",
            " 0. 0. 0. 0. 0. 0. 1. 0. 0. 0. 0. 0. 0. 0. 0. 0. 0. 0. 0. 0. 0. 0. 0. 0.\n",
            " 0. 0. 0. 0. 0. 0. 0. 0. 0. 0. 0. 0. 0. 0. 0. 0. 0. 0. 0. 0. 0. 0. 0. 0.\n",
            " 0. 0. 1. 0. 0. 0. 0. 0. 0. 0. 0. 0. 0. 0. 0. 1. 0. 0. 0. 0. 0. 0. 0. 0.\n",
            " 0. 0. 0. 0. 0. 0. 0. 0. 0. 0. 0. 0. 0. 0. 0. 0. 0. 0. 0. 0. 0. 0. 0. 0.\n",
            " 0. 1. 0. 0. 0. 0. 0. 0. 0. 0. 0. 0. 0. 0. 0. 0. 0. 0. 0. 0. 0. 0. 0. 0.\n",
            " 0. 0. 0. 0. 0. 0. 0. 0. 0. 0. 0. 0. 1. 0. 0. 0. 0. 0. 0. 0. 0. 0. 1. 0.\n",
            " 0. 0. 0. 0. 0. 0. 0. 0. 0. 0. 0. 0. 0. 0. 0. 0. 0. 0. 0. 0. 0. 0. 0. 0.\n",
            " 0. 0. 0. 0. 0. 0. 0. 1. 0. 0. 0. 0. 0. 0. 0. 0. 0. 0. 0. 0. 0. 0. 0. 0.\n",
            " 0. 0. 0.]\n"
          ],
          "name": "stdout"
        }
      ]
    },
    {
      "cell_type": "markdown",
      "metadata": {
        "id": "MuYNcRv2QQ4W",
        "colab_type": "text"
      },
      "source": [
        "Phonological representation sample"
      ]
    },
    {
      "cell_type": "code",
      "metadata": {
        "id": "C6lZVMQTPtHB",
        "colab_type": "code",
        "outputId": "7c82d158-1bc7-4e57-d6ab-c13d251294eb",
        "colab": {
          "base_uri": "https://localhost:8080/",
          "height": 369
        }
      },
      "source": [
        "print('\\n')\n",
        "print(f'The word pronounciation in SAMPA is: {pron[wid]}')\n",
        "print(f'Using number to represent pronounciation: {pron_seq[wid]}')\n",
        "print(f'Padding it to maximum length of pronounciation (9): {pron_padseq[wid]}')\n",
        "print(f'One-hot encoding: {pho_adult[wid]}')"
      ],
      "execution_count": 38,
      "outputs": [
        {
          "output_type": "stream",
          "text": [
            "\n",
            "\n",
            "The word pronounciation in SAMPA is: b\"aNkt\n",
            "Using number to represent pronounciation: [14, 1, 8, 33, 7, 3]\n",
            "Padding it to maximum length of pronounciation (9): [ 0  0  0 14  1  8 33  7  3]\n",
            "One-hot encoding: [1. 0. 0. 0. 0. 0. 0. 0. 0. 0. 0. 0. 0. 0. 0. 0. 0. 0. 0. 0. 0. 0. 0. 0.\n",
            " 0. 0. 0. 0. 0. 0. 0. 0. 0. 0. 0. 0. 0. 0. 0. 0. 1. 0. 0. 0. 0. 0. 0. 0.\n",
            " 0. 0. 0. 0. 0. 0. 0. 0. 0. 0. 0. 0. 0. 0. 0. 0. 0. 0. 0. 0. 0. 0. 0. 0.\n",
            " 0. 0. 0. 0. 0. 0. 0. 0. 1. 0. 0. 0. 0. 0. 0. 0. 0. 0. 0. 0. 0. 0. 0. 0.\n",
            " 0. 0. 0. 0. 0. 0. 0. 0. 0. 0. 0. 0. 0. 0. 0. 0. 0. 0. 0. 0. 0. 0. 0. 0.\n",
            " 0. 0. 0. 0. 0. 0. 0. 0. 0. 0. 0. 0. 0. 0. 1. 0. 0. 0. 0. 0. 0. 0. 0. 0.\n",
            " 0. 0. 0. 0. 0. 0. 0. 0. 0. 0. 0. 0. 0. 0. 0. 0. 0. 1. 0. 0. 0. 0. 0. 0.\n",
            " 0. 0. 0. 0. 0. 0. 0. 0. 0. 0. 0. 0. 0. 0. 0. 0. 0. 0. 0. 0. 0. 0. 0. 0.\n",
            " 0. 0. 0. 0. 0. 0. 0. 0. 0. 0. 0. 0. 0. 0. 0. 0. 1. 0. 0. 0. 0. 0. 0. 0.\n",
            " 0. 0. 0. 0. 0. 0. 0. 0. 0. 0. 0. 0. 0. 0. 0. 0. 0. 0. 0. 0. 0. 0. 0. 0.\n",
            " 0. 0. 0. 0. 0. 0. 0. 0. 0. 0. 0. 0. 0. 0. 0. 0. 0. 0. 0. 0. 0. 0. 0. 0.\n",
            " 0. 0. 0. 0. 0. 0. 0. 0. 0. 1. 0. 0. 0. 0. 0. 0. 0. 0. 0. 0. 0. 0. 0. 1.\n",
            " 0. 0. 0. 0. 0. 0. 0. 0. 0. 0. 0. 0. 0. 0. 0. 0. 0. 0. 0. 0. 0. 0. 0. 0.\n",
            " 0. 0. 0. 0. 0. 0. 0. 0. 0. 0. 0. 1. 0. 0. 0. 0. 0. 0. 0. 0. 0. 0. 0. 0.\n",
            " 0. 0. 0. 0. 0. 0. 0. 0. 0. 0. 0. 0. 0. 0. 0. 0. 0. 0. 0. 0. 0. 0. 0. 0.]\n"
          ],
          "name": "stdout"
        }
      ]
    },
    {
      "cell_type": "markdown",
      "metadata": {
        "id": "4zg8ChOJ0dXJ",
        "colab_type": "text"
      },
      "source": [
        "**How many input do we have in O?**\n",
        "- [ ] 9\n",
        "- [ ] 27 * 9 = 243\n",
        "- [ ] 26\n",
        "- [ ] 26 * 9 = 234"
      ]
    },
    {
      "cell_type": "markdown",
      "metadata": {
        "id": "U2WIYJJd0xhu",
        "colab_type": "text"
      },
      "source": [
        "## Function for decoding\n",
        "We may want to reverse an encoded (i.e. decode) representation later"
      ]
    },
    {
      "cell_type": "code",
      "metadata": {
        "id": "b6DS2u0DxelN",
        "colab_type": "code",
        "outputId": "618b7179-a77a-4e8e-af6a-f2510c94a138",
        "colab": {
          "base_uri": "https://localhost:8080/",
          "height": 334
        }
      },
      "source": [
        "def rev_representation(mat, tokenizer, original_shape):\n",
        "    \"\"\"This function can decode representation\"\"\"\n",
        "    boo = np.argmax(mat.reshape(original_shape), axis=1)\n",
        "    return tokenizer.sequences_to_texts(boo.reshape(1,9))\n",
        "\n",
        "print(f'For example: the word {df.word[100]}:\\n')\n",
        "print(f'The orthographic representation is: \\n {ort_adult[100]}\\n')\n",
        "print(f'Reversing it using rev_representation() becomes: {rev_representation(ort_adult[100], token_o, (9, 27))}\\n')\n",
        "print(f'Similarly, reversing phonological representation: {rev_representation(pho_adult[100], token_p, (9, 40))}')"
      ],
      "execution_count": 39,
      "outputs": [
        {
          "output_type": "stream",
          "text": [
            "For example: the word banked:\n",
            "\n",
            "The orthographic representation is: \n",
            " [1. 0. 0. 0. 0. 0. 0. 0. 0. 0. 0. 0. 0. 0. 0. 0. 0. 0. 0. 0. 0. 0. 0. 0.\n",
            " 0. 0. 0. 1. 0. 0. 0. 0. 0. 0. 0. 0. 0. 0. 0. 0. 0. 0. 0. 0. 0. 0. 0. 0.\n",
            " 0. 0. 0. 0. 0. 0. 1. 0. 0. 0. 0. 0. 0. 0. 0. 0. 0. 0. 0. 0. 0. 0. 0. 0.\n",
            " 0. 0. 0. 0. 0. 0. 0. 0. 0. 0. 0. 0. 0. 0. 0. 0. 0. 0. 0. 0. 0. 0. 0. 0.\n",
            " 0. 0. 1. 0. 0. 0. 0. 0. 0. 0. 0. 0. 0. 0. 0. 1. 0. 0. 0. 0. 0. 0. 0. 0.\n",
            " 0. 0. 0. 0. 0. 0. 0. 0. 0. 0. 0. 0. 0. 0. 0. 0. 0. 0. 0. 0. 0. 0. 0. 0.\n",
            " 0. 1. 0. 0. 0. 0. 0. 0. 0. 0. 0. 0. 0. 0. 0. 0. 0. 0. 0. 0. 0. 0. 0. 0.\n",
            " 0. 0. 0. 0. 0. 0. 0. 0. 0. 0. 0. 0. 1. 0. 0. 0. 0. 0. 0. 0. 0. 0. 1. 0.\n",
            " 0. 0. 0. 0. 0. 0. 0. 0. 0. 0. 0. 0. 0. 0. 0. 0. 0. 0. 0. 0. 0. 0. 0. 0.\n",
            " 0. 0. 0. 0. 0. 0. 0. 1. 0. 0. 0. 0. 0. 0. 0. 0. 0. 0. 0. 0. 0. 0. 0. 0.\n",
            " 0. 0. 0.]\n",
            "\n",
            "Reversing it using rev_representation() becomes: ['b a n k e d']\n",
            "\n",
            "Similarly, reversing phonological representation: ['b \" a N k t']\n"
          ],
          "name": "stdout"
        }
      ]
    },
    {
      "cell_type": "markdown",
      "metadata": {
        "id": "YN2nNTx-RXjf",
        "colab_type": "text"
      },
      "source": [
        "## Create child dataset using AOA\n",
        "*   Let's examing aoa distribution a bit"
      ]
    },
    {
      "cell_type": "code",
      "metadata": {
        "id": "baUS5BICRWxB",
        "colab_type": "code",
        "outputId": "c4f581a4-d85b-452e-a220-72d665fe9fc9",
        "colab": {
          "base_uri": "https://localhost:8080/",
          "height": 286
        }
      },
      "source": [
        "df.aoa.hist()"
      ],
      "execution_count": 40,
      "outputs": [
        {
          "output_type": "execute_result",
          "data": {
            "text/plain": [
              "<matplotlib.axes._subplots.AxesSubplot at 0x7f11b1d9a588>"
            ]
          },
          "metadata": {
            "tags": []
          },
          "execution_count": 40
        },
        {
          "output_type": "display_data",
          "data": {
            "image/png": "[encoded data removed]",
            "text/plain": [
              "<Figure size 432x288 with 1 Axes>"
            ]
          },
          "metadata": {
            "tags": []
          }
        }
      ]
    },
    {
      "cell_type": "markdown",
      "metadata": {
        "id": "38BvDB6-ccPF",
        "colab_type": "text"
      },
      "source": [
        "Split at 6 maybe... near grade one.\n",
        "You can choose any split you like.\n",
        "We can compare results later "
      ]
    },
    {
      "cell_type": "code",
      "metadata": {
        "id": "T-ym_lxvcbTc",
        "colab_type": "code",
        "outputId": "7509ec93-eb5a-4d2e-b587-28d70591fc68",
        "colab": {
          "base_uri": "https://localhost:8080/",
          "height": 282
        }
      },
      "source": [
        "df_child = df[df.aoa<=6]\n",
        "df_child.aoa.hist()\n",
        "print(f'{len(df_child)} words remaining')"
      ],
      "execution_count": 41,
      "outputs": [
        {
          "output_type": "stream",
          "text": [
            "1944 words remaining\n"
          ],
          "name": "stdout"
        },
        {
          "output_type": "display_data",
          "data": {
            "image/png": "[encoded data removed]",
            "text/plain": [
              "<Figure size 432x288 with 1 Axes>"
            ]
          },
          "metadata": {
            "tags": []
          }
        }
      ]
    },
    {
      "cell_type": "markdown",
      "metadata": {
        "id": "mq5R-WPTSfec",
        "colab_type": "text"
      },
      "source": [
        "Subset it from adult data file"
      ]
    },
    {
      "cell_type": "code",
      "metadata": {
        "id": "_Z57fYXaRc8a",
        "colab_type": "code",
        "outputId": "abae1bd4-07c9-4dc7-e7b7-4be54e76a727",
        "colab": {
          "base_uri": "https://localhost:8080/",
          "height": 52
        }
      },
      "source": [
        "ort_child = ort_adult[df_child.index]\n",
        "pho_child = pho_adult[df_child.index]\n",
        "\n",
        "print(f'The shape of input ort: {ort_child.shape}')\n",
        "print(f'The shape of output pho: {pho_child.shape}')"
      ],
      "execution_count": 42,
      "outputs": [
        {
          "output_type": "stream",
          "text": [
            "The shape of input ort: (1944, 243)\n",
            "The shape of output pho: (1944, 360)\n"
          ],
          "name": "stdout"
        }
      ]
    },
    {
      "cell_type": "markdown",
      "metadata": {
        "id": "PlfbDRJOhipG",
        "colab_type": "text"
      },
      "source": [
        "## Lookup Strain set in this representation"
      ]
    },
    {
      "cell_type": "code",
      "metadata": {
        "id": "8McwZrlBhrR8",
        "colab_type": "code",
        "outputId": "23d7a181-ee32-4c12-c31c-8dc3621c5b97",
        "colab": {
          "base_uri": "https://localhost:8080/",
          "height": 263
        }
      },
      "source": [
        "strain_raw = pd.read_csv('demo/df_strain_demo.csv')\n",
        "strain_raw.head"
      ],
      "execution_count": 43,
      "outputs": [
        {
          "output_type": "execute_result",
          "data": {
            "text/plain": [
              "<bound method NDFrame.head of       word frequency pho_consistency imageability\n",
              "0     ball        HF             INC           HI\n",
              "1     bank        HF             CON           HI\n",
              "2    beach        HF             CON           HI\n",
              "3     beak        LF             INC           HI\n",
              "4    beard        LF             INC           HI\n",
              "..     ...       ...             ...          ...\n",
              "155   wool        LF             INC           HI\n",
              "156   worm        LF             INC           HI\n",
              "157  worth        HF             INC           LI\n",
              "158  wrong        HF             CON           LI\n",
              "159   zone        LF             INC           LI\n",
              "\n",
              "[160 rows x 4 columns]>"
            ]
          },
          "metadata": {
            "tags": []
          },
          "execution_count": 43
        }
      ]
    },
    {
      "cell_type": "markdown",
      "metadata": {
        "id": "upZCDITaq5J2",
        "colab_type": "text"
      },
      "source": [
        "Find strain items in df and then merge, get original df index for slicing representations"
      ]
    },
    {
      "cell_type": "code",
      "metadata": {
        "id": "lK8G99c5k9zn",
        "colab_type": "code",
        "outputId": "c108e6a6-836d-4058-c25e-6be2dcf405e9",
        "colab": {
          "base_uri": "https://localhost:8080/",
          "height": 417
        }
      },
      "source": [
        "strain = pd.merge(df, strain_raw, on='word')\n",
        "strain"
      ],
      "execution_count": 44,
      "outputs": [
        {
          "output_type": "execute_result",
          "data": {
            "text/html": [
              "<div>\n",
              "<style scoped>\n",
              "    .dataframe tbody tr th:only-of-type {\n",
              "        vertical-align: middle;\n",
              "    }\n",
              "\n",
              "    .dataframe tbody tr th {\n",
              "        vertical-align: top;\n",
              "    }\n",
              "\n",
              "    .dataframe thead th {\n",
              "        text-align: right;\n",
              "    }\n",
              "</style>\n",
              "<table border=\"1\" class=\"dataframe\">\n",
              "  <thead>\n",
              "    <tr style=\"text-align: right;\">\n",
              "      <th></th>\n",
              "      <th>word</th>\n",
              "      <th>p</th>\n",
              "      <th>wf</th>\n",
              "      <th>aoa</th>\n",
              "      <th>index</th>\n",
              "      <th>frequency</th>\n",
              "      <th>pho_consistency</th>\n",
              "      <th>imageability</th>\n",
              "    </tr>\n",
              "  </thead>\n",
              "  <tbody>\n",
              "    <tr>\n",
              "      <th>0</th>\n",
              "      <td>ball</td>\n",
              "      <td>b\"Ol</td>\n",
              "      <td>104.96</td>\n",
              "      <td>2.900</td>\n",
              "      <td>88</td>\n",
              "      <td>HF</td>\n",
              "      <td>INC</td>\n",
              "      <td>HI</td>\n",
              "    </tr>\n",
              "    <tr>\n",
              "      <th>1</th>\n",
              "      <td>bank</td>\n",
              "      <td>b\"aNk</td>\n",
              "      <td>84.98</td>\n",
              "      <td>6.440</td>\n",
              "      <td>99</td>\n",
              "      <td>HF</td>\n",
              "      <td>CON</td>\n",
              "      <td>HI</td>\n",
              "    </tr>\n",
              "    <tr>\n",
              "      <th>2</th>\n",
              "      <td>beach</td>\n",
              "      <td>b\"itS</td>\n",
              "      <td>56.63</td>\n",
              "      <td>4.800</td>\n",
              "      <td>136</td>\n",
              "      <td>HF</td>\n",
              "      <td>CON</td>\n",
              "      <td>HI</td>\n",
              "    </tr>\n",
              "    <tr>\n",
              "      <th>3</th>\n",
              "      <td>beak</td>\n",
              "      <td>b\"ik</td>\n",
              "      <td>2.10</td>\n",
              "      <td>5.420</td>\n",
              "      <td>139</td>\n",
              "      <td>LF</td>\n",
              "      <td>INC</td>\n",
              "      <td>HI</td>\n",
              "    </tr>\n",
              "    <tr>\n",
              "      <th>4</th>\n",
              "      <td>beard</td>\n",
              "      <td>b\"Ird</td>\n",
              "      <td>12.61</td>\n",
              "      <td>4.840</td>\n",
              "      <td>145</td>\n",
              "      <td>LF</td>\n",
              "      <td>INC</td>\n",
              "      <td>HI</td>\n",
              "    </tr>\n",
              "    <tr>\n",
              "      <th>...</th>\n",
              "      <td>...</td>\n",
              "      <td>...</td>\n",
              "      <td>...</td>\n",
              "      <td>...</td>\n",
              "      <td>...</td>\n",
              "      <td>...</td>\n",
              "      <td>...</td>\n",
              "      <td>...</td>\n",
              "    </tr>\n",
              "    <tr>\n",
              "      <th>155</th>\n",
              "      <td>wool</td>\n",
              "      <td>w\"Ul</td>\n",
              "      <td>3.16</td>\n",
              "      <td>8.060</td>\n",
              "      <td>5434</td>\n",
              "      <td>LF</td>\n",
              "      <td>INC</td>\n",
              "      <td>HI</td>\n",
              "    </tr>\n",
              "    <tr>\n",
              "      <th>156</th>\n",
              "      <td>worm</td>\n",
              "      <td>w\"3`m</td>\n",
              "      <td>10.12</td>\n",
              "      <td>3.890</td>\n",
              "      <td>5443</td>\n",
              "      <td>LF</td>\n",
              "      <td>INC</td>\n",
              "      <td>HI</td>\n",
              "    </tr>\n",
              "    <tr>\n",
              "      <th>157</th>\n",
              "      <td>worth</td>\n",
              "      <td>w\"3`T</td>\n",
              "      <td>109.20</td>\n",
              "      <td>7.085</td>\n",
              "      <td>5449</td>\n",
              "      <td>HF</td>\n",
              "      <td>INC</td>\n",
              "      <td>LI</td>\n",
              "    </tr>\n",
              "    <tr>\n",
              "      <th>158</th>\n",
              "      <td>wrong</td>\n",
              "      <td>r\"ON</td>\n",
              "      <td>523.10</td>\n",
              "      <td>4.220</td>\n",
              "      <td>5479</td>\n",
              "      <td>HF</td>\n",
              "      <td>CON</td>\n",
              "      <td>LI</td>\n",
              "    </tr>\n",
              "    <tr>\n",
              "      <th>159</th>\n",
              "      <td>zone</td>\n",
              "      <td>z\"on</td>\n",
              "      <td>20.12</td>\n",
              "      <td>8.790</td>\n",
              "      <td>5535</td>\n",
              "      <td>LF</td>\n",
              "      <td>INC</td>\n",
              "      <td>LI</td>\n",
              "    </tr>\n",
              "  </tbody>\n",
              "</table>\n",
              "<p>160 rows × 8 columns</p>\n",
              "</div>"
            ],
            "text/plain": [
              "      word      p      wf    aoa  index frequency pho_consistency imageability\n",
              "0     ball   b\"Ol  104.96  2.900     88        HF             INC           HI\n",
              "1     bank  b\"aNk   84.98  6.440     99        HF             CON           HI\n",
              "2    beach  b\"itS   56.63  4.800    136        HF             CON           HI\n",
              "3     beak   b\"ik    2.10  5.420    139        LF             INC           HI\n",
              "4    beard  b\"Ird   12.61  4.840    145        LF             INC           HI\n",
              "..     ...    ...     ...    ...    ...       ...             ...          ...\n",
              "155   wool   w\"Ul    3.16  8.060   5434        LF             INC           HI\n",
              "156   worm  w\"3`m   10.12  3.890   5443        LF             INC           HI\n",
              "157  worth  w\"3`T  109.20  7.085   5449        HF             INC           LI\n",
              "158  wrong   r\"ON  523.10  4.220   5479        HF             CON           LI\n",
              "159   zone   z\"on   20.12  8.790   5535        LF             INC           LI\n",
              "\n",
              "[160 rows x 8 columns]"
            ]
          },
          "metadata": {
            "tags": []
          },
          "execution_count": 44
        }
      ]
    },
    {
      "cell_type": "markdown",
      "metadata": {
        "id": "Za66U7CusYlG",
        "colab_type": "text"
      },
      "source": [
        "Id of four conditions"
      ]
    },
    {
      "cell_type": "code",
      "metadata": {
        "id": "xmS6MWpSrgcp",
        "colab_type": "code",
        "colab": {}
      },
      "source": [
        "hf_con_id = strain.loc[(strain.frequency=='HF') & (strain.pho_consistency == 'CON'),'index'].to_list()\n",
        "lf_con_id = strain.loc[(strain.frequency=='LF') & (strain.pho_consistency == 'CON'),'index'].to_list()\n",
        "hf_inc_id = strain.loc[(strain.frequency=='HF') & (strain.pho_consistency == 'INC'),'index'].to_list()\n",
        "lf_inc_id = strain.loc[(strain.frequency=='LF') & (strain.pho_consistency == 'INC'),'index'].to_list()"
      ],
      "execution_count": 0,
      "outputs": []
    },
    {
      "cell_type": "markdown",
      "metadata": {
        "id": "PaALO53ZsgfC",
        "colab_type": "text"
      },
      "source": [
        "Get representations"
      ]
    },
    {
      "cell_type": "code",
      "metadata": {
        "id": "OujGncgbsq3a",
        "colab_type": "code",
        "colab": {}
      },
      "source": [
        "ort_hf_con = ort_adult[hf_con_id]\n",
        "ort_hf_inc = ort_adult[hf_inc_id]\n",
        "ort_lf_con = ort_adult[lf_con_id]\n",
        "ort_lf_inc = ort_adult[lf_inc_id]\n",
        "\n",
        "pho_hf_con = pho_adult[hf_con_id]\n",
        "pho_hf_inc = pho_adult[hf_inc_id]\n",
        "pho_lf_con = pho_adult[lf_con_id]\n",
        "pho_lf_inc = pho_adult[lf_inc_id]"
      ],
      "execution_count": 0,
      "outputs": []
    },
    {
      "cell_type": "markdown",
      "metadata": {
        "id": "BkvF1Z2fwJFg",
        "colab_type": "text"
      },
      "source": [
        "## Just in case... check a sample in each condition (Skip)"
      ]
    },
    {
      "cell_type": "code",
      "metadata": {
        "id": "mH9DzQZL6NbJ",
        "colab_type": "code",
        "outputId": "47422455-b07b-4042-caac-63c5be39245f",
        "colab": {
          "base_uri": "https://localhost:8080/",
          "height": 158
        }
      },
      "source": [
        "# Item no. 10 of each condition\n",
        "i = 10\n",
        "\n",
        "print(rev_representation(ort_hf_con[i], token_o, (9, 27)))\n",
        "print(rev_representation(ort_hf_inc[i], token_o, (9, 27)))\n",
        "print(rev_representation(ort_lf_con[i], token_o, (9, 27)))\n",
        "print(rev_representation(ort_lf_inc[i], token_o, (9, 27)))\n",
        "\n",
        "print(rev_representation(pho_hf_con[i], token_p, (9, 40)))\n",
        "print(rev_representation(pho_hf_inc[i], token_p, (9, 40)))\n",
        "print(rev_representation(pho_lf_con[i], token_p, (9, 40)))\n",
        "print(rev_representation(pho_lf_inc[i], token_p, (9, 40)))"
      ],
      "execution_count": 47,
      "outputs": [
        {
          "output_type": "stream",
          "text": [
            "['d e e p']\n",
            "['d o g']\n",
            "['d i m e']\n",
            "['f o e']\n",
            "['d \" i p']\n",
            "['d \" O g']\n",
            "['d \" a I m']\n",
            "['f \" o']\n"
          ],
          "name": "stdout"
        }
      ]
    },
    {
      "cell_type": "code",
      "metadata": {
        "id": "SSkH-nZowGsX",
        "colab_type": "code",
        "outputId": "1fe70cad-c119-47ca-9104-1073c87a707a",
        "colab": {
          "base_uri": "https://localhost:8080/"
        }
      },
      "source": [
        "strain.loc[strain.word == 'deep',:]"
      ],
      "execution_count": 0,
      "outputs": [
        {
          "output_type": "execute_result",
          "data": {
            "text/html": [
              "<div>\n",
              "<style scoped>\n",
              "    .dataframe tbody tr th:only-of-type {\n",
              "        vertical-align: middle;\n",
              "    }\n",
              "\n",
              "    .dataframe tbody tr th {\n",
              "        vertical-align: top;\n",
              "    }\n",
              "\n",
              "    .dataframe thead th {\n",
              "        text-align: right;\n",
              "    }\n",
              "</style>\n",
              "<table border=\"1\" class=\"dataframe\">\n",
              "  <thead>\n",
              "    <tr style=\"text-align: right;\">\n",
              "      <th></th>\n",
              "      <th>word</th>\n",
              "      <th>p</th>\n",
              "      <th>wf</th>\n",
              "      <th>aoa</th>\n",
              "      <th>index</th>\n",
              "      <th>frequency</th>\n",
              "      <th>pho_consistency</th>\n",
              "      <th>imageability</th>\n",
              "    </tr>\n",
              "  </thead>\n",
              "  <tbody>\n",
              "    <tr>\n",
              "      <th>39</th>\n",
              "      <td>deep</td>\n",
              "      <td>d\"ip</td>\n",
              "      <td>76.39</td>\n",
              "      <td>5.47</td>\n",
              "      <td>1089</td>\n",
              "      <td>HF</td>\n",
              "      <td>CON</td>\n",
              "      <td>LI</td>\n",
              "    </tr>\n",
              "  </tbody>\n",
              "</table>\n",
              "</div>"
            ],
            "text/plain": [
              "    word     p     wf   aoa  index frequency pho_consistency imageability\n",
              "39  deep  d\"ip  76.39  5.47   1089        HF             CON           LI"
            ]
          },
          "metadata": {
            "tags": []
          },
          "execution_count": 19
        }
      ]
    },
    {
      "cell_type": "code",
      "metadata": {
        "id": "sECohMS67bjE",
        "colab_type": "code",
        "outputId": "29f2e134-df8d-478b-c299-a8d7914d6215",
        "colab": {
          "base_uri": "https://localhost:8080/"
        }
      },
      "source": [
        "strain.loc[strain.word == 'dog',:]"
      ],
      "execution_count": 0,
      "outputs": [
        {
          "output_type": "execute_result",
          "data": {
            "text/html": [
              "<div>\n",
              "<style scoped>\n",
              "    .dataframe tbody tr th:only-of-type {\n",
              "        vertical-align: middle;\n",
              "    }\n",
              "\n",
              "    .dataframe tbody tr th {\n",
              "        vertical-align: top;\n",
              "    }\n",
              "\n",
              "    .dataframe thead th {\n",
              "        text-align: right;\n",
              "    }\n",
              "</style>\n",
              "<table border=\"1\" class=\"dataframe\">\n",
              "  <thead>\n",
              "    <tr style=\"text-align: right;\">\n",
              "      <th></th>\n",
              "      <th>word</th>\n",
              "      <th>p</th>\n",
              "      <th>wf</th>\n",
              "      <th>aoa</th>\n",
              "      <th>index</th>\n",
              "      <th>frequency</th>\n",
              "      <th>pho_consistency</th>\n",
              "      <th>imageability</th>\n",
              "    </tr>\n",
              "  </thead>\n",
              "  <tbody>\n",
              "    <tr>\n",
              "      <th>41</th>\n",
              "      <td>dog</td>\n",
              "      <td>d\"Og</td>\n",
              "      <td>192.84</td>\n",
              "      <td>2.8</td>\n",
              "      <td>1156</td>\n",
              "      <td>HF</td>\n",
              "      <td>INC</td>\n",
              "      <td>HI</td>\n",
              "    </tr>\n",
              "  </tbody>\n",
              "</table>\n",
              "</div>"
            ],
            "text/plain": [
              "   word     p      wf  aoa  index frequency pho_consistency imageability\n",
              "41  dog  d\"Og  192.84  2.8   1156        HF             INC           HI"
            ]
          },
          "metadata": {
            "tags": []
          },
          "execution_count": 20
        }
      ]
    },
    {
      "cell_type": "code",
      "metadata": {
        "id": "6YQHHEVr7cxM",
        "colab_type": "code",
        "outputId": "51cc9969-0b23-4ac7-f40b-3f7430897ffc",
        "colab": {
          "base_uri": "https://localhost:8080/"
        }
      },
      "source": [
        "strain.loc[strain.word == 'dime',:]"
      ],
      "execution_count": 0,
      "outputs": [
        {
          "output_type": "execute_result",
          "data": {
            "text/html": [
              "<div>\n",
              "<style scoped>\n",
              "    .dataframe tbody tr th:only-of-type {\n",
              "        vertical-align: middle;\n",
              "    }\n",
              "\n",
              "    .dataframe tbody tr th {\n",
              "        vertical-align: top;\n",
              "    }\n",
              "\n",
              "    .dataframe thead th {\n",
              "        text-align: right;\n",
              "    }\n",
              "</style>\n",
              "<table border=\"1\" class=\"dataframe\">\n",
              "  <thead>\n",
              "    <tr style=\"text-align: right;\">\n",
              "      <th></th>\n",
              "      <th>word</th>\n",
              "      <th>p</th>\n",
              "      <th>wf</th>\n",
              "      <th>aoa</th>\n",
              "      <th>index</th>\n",
              "      <th>frequency</th>\n",
              "      <th>pho_consistency</th>\n",
              "      <th>imageability</th>\n",
              "    </tr>\n",
              "  </thead>\n",
              "  <tbody>\n",
              "    <tr>\n",
              "      <th>40</th>\n",
              "      <td>dime</td>\n",
              "      <td>d\"aIm</td>\n",
              "      <td>12.06</td>\n",
              "      <td>5.74</td>\n",
              "      <td>1122</td>\n",
              "      <td>LF</td>\n",
              "      <td>CON</td>\n",
              "      <td>HI</td>\n",
              "    </tr>\n",
              "  </tbody>\n",
              "</table>\n",
              "</div>"
            ],
            "text/plain": [
              "    word      p     wf   aoa  index frequency pho_consistency imageability\n",
              "40  dime  d\"aIm  12.06  5.74   1122        LF             CON           HI"
            ]
          },
          "metadata": {
            "tags": []
          },
          "execution_count": 21
        }
      ]
    },
    {
      "cell_type": "code",
      "metadata": {
        "id": "V8gXIvT37dPT",
        "colab_type": "code",
        "outputId": "350f53db-4418-4721-8d07-bcd13fbcbe8e",
        "colab": {
          "base_uri": "https://localhost:8080/"
        }
      },
      "source": [
        "strain.loc[strain.word == 'foe',:]"
      ],
      "execution_count": 0,
      "outputs": [
        {
          "output_type": "execute_result",
          "data": {
            "text/html": [
              "<div>\n",
              "<style scoped>\n",
              "    .dataframe tbody tr th:only-of-type {\n",
              "        vertical-align: middle;\n",
              "    }\n",
              "\n",
              "    .dataframe tbody tr th {\n",
              "        vertical-align: top;\n",
              "    }\n",
              "\n",
              "    .dataframe thead th {\n",
              "        text-align: right;\n",
              "    }\n",
              "</style>\n",
              "<table border=\"1\" class=\"dataframe\">\n",
              "  <thead>\n",
              "    <tr style=\"text-align: right;\">\n",
              "      <th></th>\n",
              "      <th>word</th>\n",
              "      <th>p</th>\n",
              "      <th>wf</th>\n",
              "      <th>aoa</th>\n",
              "      <th>index</th>\n",
              "      <th>frequency</th>\n",
              "      <th>pho_consistency</th>\n",
              "      <th>imageability</th>\n",
              "    </tr>\n",
              "  </thead>\n",
              "  <tbody>\n",
              "    <tr>\n",
              "      <th>51</th>\n",
              "      <td>foe</td>\n",
              "      <td>f\"o</td>\n",
              "      <td>1.84</td>\n",
              "      <td>9.95</td>\n",
              "      <td>1583</td>\n",
              "      <td>LF</td>\n",
              "      <td>INC</td>\n",
              "      <td>LI</td>\n",
              "    </tr>\n",
              "  </tbody>\n",
              "</table>\n",
              "</div>"
            ],
            "text/plain": [
              "   word    p    wf   aoa  index frequency pho_consistency imageability\n",
              "51  foe  f\"o  1.84  9.95   1583        LF             INC           LI"
            ]
          },
          "metadata": {
            "tags": []
          },
          "execution_count": 22
        }
      ]
    },
    {
      "cell_type": "markdown",
      "metadata": {
        "id": "vqoK8sxbdeAm",
        "colab_type": "text"
      },
      "source": [
        "# Modeling\n",
        "- Kind of easier than preparation..."
      ]
    },
    {
      "cell_type": "markdown",
      "metadata": {
        "id": "cd5f2DZb36al",
        "colab_type": "text"
      },
      "source": [
        "## Building model"
      ]
    },
    {
      "cell_type": "code",
      "metadata": {
        "id": "tyRkzETzX6SD",
        "colab_type": "code",
        "outputId": "6ac38d29-22f8-4435-e406-92e967aa07fd",
        "colab": {
          "base_uri": "https://localhost:8080/",
          "height": 221
        }
      },
      "source": [
        "from tensorflow.keras.models import Sequential\n",
        "from tensorflow.keras.layers import Dense\n",
        "from tensorflow.keras.optimizers import Adam\n",
        "\n",
        "model = Sequential()\n",
        "model.add(Dense(50, activation='sigmoid', input_shape=(243,)))\n",
        "model.add(Dense(9*40, activation='sigmoid'))\n",
        "\n",
        "model.compile(loss='binary_crossentropy',\n",
        "            optimizer=Adam(0.1),\n",
        "            metrics=['binary_accuracy', 'mse'])\n",
        "\n",
        "model.summary()"
      ],
      "execution_count": 0,
      "outputs": [
        {
          "output_type": "stream",
          "text": [
            "Model: \"sequential\"\n",
            "_________________________________________________________________\n",
            "Layer (type)                 Output Shape              Param #   \n",
            "=================================================================\n",
            "dense (Dense)                (None, 50)                12200     \n",
            "_________________________________________________________________\n",
            "dense_1 (Dense)              (None, 360)               18360     \n",
            "=================================================================\n",
            "Total params: 30,560\n",
            "Trainable params: 30,560\n",
            "Non-trainable params: 0\n",
            "_________________________________________________________________\n"
          ],
          "name": "stdout"
        }
      ]
    },
    {
      "cell_type": "markdown",
      "metadata": {
        "id": "3THzybVgZAHx",
        "colab_type": "text"
      },
      "source": [
        "## Training model"
      ]
    },
    {
      "cell_type": "code",
      "metadata": {
        "id": "b4NdAWy_XfFh",
        "colab_type": "code",
        "outputId": "227be59f-c9c1-4b21-e0ab-11f575147989",
        "colab": {
          "base_uri": "https://localhost:8080/",
          "height": 477
        }
      },
      "source": [
        "from tensorflow.keras.callbacks import ModelCheckpoint\n",
        "                            \n",
        "hist = model.fit(x = ort_adult, \n",
        "                 y = pho_adult, \n",
        "                 batch_size = 128, \n",
        "                 epochs = 10, \n",
        "                 sample_weight = np.log(df.wf + 2))   # This sample_weight is for weighting the loss function"
      ],
      "execution_count": 49,
      "outputs": [
        {
          "output_type": "stream",
          "text": [
            "WARNING:tensorflow:sample_weight modes were coerced from\n",
            "  ...\n",
            "    to  \n",
            "  ['...']\n",
            "Train on 5541 samples\n",
            "Epoch 1/10\n",
            "5541/5541 [==============================] - 0s 30us/sample - loss: 0.0436 - binary_accuracy: 0.9919 - mse: 0.0062\n",
            "Epoch 2/10\n",
            "5541/5541 [==============================] - 0s 28us/sample - loss: 0.0408 - binary_accuracy: 0.9924 - mse: 0.0059\n",
            "Epoch 3/10\n",
            "5541/5541 [==============================] - 0s 27us/sample - loss: 0.0385 - binary_accuracy: 0.9927 - mse: 0.0056\n",
            "Epoch 4/10\n",
            "5541/5541 [==============================] - 0s 29us/sample - loss: 0.0362 - binary_accuracy: 0.9931 - mse: 0.0053\n",
            "Epoch 5/10\n",
            "5541/5541 [==============================] - 0s 28us/sample - loss: 0.0346 - binary_accuracy: 0.9933 - mse: 0.0051\n",
            "Epoch 6/10\n",
            "5541/5541 [==============================] - 0s 30us/sample - loss: 0.0339 - binary_accuracy: 0.9934 - mse: 0.0050\n",
            "Epoch 7/10\n",
            "5541/5541 [==============================] - 0s 24us/sample - loss: 0.0320 - binary_accuracy: 0.9937 - mse: 0.0048\n",
            "Epoch 8/10\n",
            "5541/5541 [==============================] - 0s 24us/sample - loss: 0.0303 - binary_accuracy: 0.9940 - mse: 0.0046\n",
            "Epoch 9/10\n",
            "5541/5541 [==============================] - 0s 27us/sample - loss: 0.0295 - binary_accuracy: 0.9941 - mse: 0.0045\n",
            "Epoch 10/10\n",
            "5541/5541 [==============================] - 0s 24us/sample - loss: 0.0282 - binary_accuracy: 0.9943 - mse: 0.0043\n"
          ],
          "name": "stdout"
        }
      ]
    },
    {
      "cell_type": "markdown",
      "metadata": {
        "id": "FYT5HBdLaZCN",
        "colab_type": "text"
      },
      "source": [
        "# Visualize results\n"
      ]
    },
    {
      "cell_type": "code",
      "metadata": {
        "id": "03yKvAydaeq0",
        "colab_type": "code",
        "outputId": "0724e4e9-0954-48aa-c178-d85a32eef7c9",
        "colab": {
          "base_uri": "https://localhost:8080/",
          "height": 384
        }
      },
      "source": [
        "import altair as alt\n",
        "\n",
        "# Create training history dataframe\n",
        "history = pd.DataFrame(hist.history)\n",
        "history['epoch'] = history.index\n",
        "\n",
        "# Select a metric to plot\n",
        "plot_metic = 'loss'\n",
        "plot_data = history[['epoch', plot_metic]]\n",
        "alt.Chart(plot_data).mark_line().encode(\n",
        "    x='epoch',\n",
        "    y=plot_metic,\n",
        "    tooltip=['epoch', plot_metic]\n",
        ").properties(title=f'Training history ({plot_metic})')"
      ],
      "execution_count": 50,
      "outputs": [
        {
          "output_type": "execute_result",
          "data": {
            "text/plain": [
              "alt.Chart(...)"
            ],
            "text/html": [
              "\n",
              "<div id=\"altair-viz-44f601fe8bd84c33b78d90d79c7e88ab\"></div>\n",
              "<script type=\"text/javascript\">\n",
              "  (function(spec, embedOpt){\n",
              "    const outputDiv = document.getElementById(\"altair-viz-44f601fe8bd84c33b78d90d79c7e88ab\");\n",
              "    const paths = {\n",
              "      \"vega\": \"https://cdn.jsdelivr.net/npm//vega@5?noext\",\n",
              "      \"vega-lib\": \"https://cdn.jsdelivr.net/npm//vega-lib?noext\",\n",
              "      \"vega-lite\": \"https://cdn.jsdelivr.net/npm//vega-lite@4.0.2?noext\",\n",
              "      \"vega-embed\": \"https://cdn.jsdelivr.net/npm//vega-embed@6?noext\",\n",
              "    };\n",
              "\n",
              "    function loadScript(lib) {\n",
              "      return new Promise(function(resolve, reject) {\n",
              "        var s = document.createElement('script');\n",
              "        s.src = paths[lib];\n",
              "        s.async = true;\n",
              "        s.onload = () => resolve(paths[lib]);\n",
              "        s.onerror = () => reject(`Error loading script: ${paths[lib]}`);\n",
              "        document.getElementsByTagName(\"head\")[0].appendChild(s);\n",
              "      });\n",
              "    }\n",
              "\n",
              "    function showError(err) {\n",
              "      outputDiv.innerHTML = `<div class=\"error\" style=\"color:red;\">${err}</div>`;\n",
              "      throw err;\n",
              "    }\n",
              "\n",
              "    function displayChart(vegaEmbed) {\n",
              "      vegaEmbed(outputDiv, spec, embedOpt)\n",
              "        .catch(err => showError(`Javascript Error: ${err.message}<br>This usually means there's a typo in your chart specification. See the javascript console for the full traceback.`));\n",
              "    }\n",
              "\n",
              "    if(typeof define === \"function\" && define.amd) {\n",
              "      requirejs.config({paths});\n",
              "      require([\"vega-embed\"], displayChart, err => showError(`Error loading script: ${err.message}`));\n",
              "    } else if (typeof vegaEmbed === \"function\") {\n",
              "      displayChart(vegaEmbed);\n",
              "    } else {\n",
              "      loadScript(\"vega\")\n",
              "        .then(() => loadScript(\"vega-lite\"))\n",
              "        .then(() => loadScript(\"vega-embed\"))\n",
              "        .catch(showError)\n",
              "        .then(() => displayChart(vegaEmbed));\n",
              "    }\n",
              "  })({\"config\": {\"view\": {\"continuousWidth\": 400, \"continuousHeight\": 300}}, \"data\": {\"name\": \"data-2584ba2ea5683cfe00dbb612db969306\"}, \"mark\": \"line\", \"encoding\": {\"tooltip\": [{\"type\": \"quantitative\", \"field\": \"epoch\"}, {\"type\": \"quantitative\", \"field\": \"loss\"}], \"x\": {\"type\": \"quantitative\", \"field\": \"epoch\"}, \"y\": {\"type\": \"quantitative\", \"field\": \"loss\"}}, \"title\": \"Training history (loss)\", \"$schema\": \"https://vega.github.io/schema/vega-lite/v4.0.2.json\", \"datasets\": {\"data-2584ba2ea5683cfe00dbb612db969306\": [{\"epoch\": 0, \"loss\": 0.043611840871891336}, {\"epoch\": 1, \"loss\": 0.04080662660285941}, {\"epoch\": 2, \"loss\": 0.03846021985947451}, {\"epoch\": 3, \"loss\": 0.036156252252455334}, {\"epoch\": 4, \"loss\": 0.03460685813460318}, {\"epoch\": 5, \"loss\": 0.03385434825456738}, {\"epoch\": 6, \"loss\": 0.03202366857559021}, {\"epoch\": 7, \"loss\": 0.030262886218631168}, {\"epoch\": 8, \"loss\": 0.029542824580520526}, {\"epoch\": 9, \"loss\": 0.02821165953114551}]}}, {\"mode\": \"vega-lite\"});\n",
              "</script>"
            ]
          },
          "metadata": {
            "tags": []
          },
          "execution_count": 50
        }
      ]
    },
    {
      "cell_type": "markdown",
      "metadata": {
        "id": "hradfCdN_OF_",
        "colab_type": "text"
      },
      "source": [
        "## Evaluate test set"
      ]
    },
    {
      "cell_type": "code",
      "metadata": {
        "id": "0PIRzyJxH4dV",
        "colab_type": "code",
        "outputId": "6a1d3adf-a91e-4efb-c371-13dee050b635",
        "colab": {
          "base_uri": "https://localhost:8080/",
          "height": 242
        }
      },
      "source": [
        "# Put test set in a list of tuple (<condition>, <ortho>, <pho>)\n",
        "testsets = [('hf_con', ort_hf_con, pho_hf_con),\n",
        "            ('hf_inc', ort_hf_inc, pho_hf_inc),\n",
        "            ('lf_con', ort_lf_con, pho_lf_con),\n",
        "            ('lf_inc', ort_lf_inc, pho_lf_inc)]\n",
        "\n",
        "results = [] \n",
        "for testset in testsets:\n",
        "    name, x, y = testset\n",
        "    # Evaulate one test set (condition)\n",
        "    result = model.evaluate(x, y)   # Since model is the trained one, it only record last epoch result...\n",
        "    results.append([name, result[1], result[2]]) # result 0 = loss, 1 = accuracy, 2 = mse\n",
        "    \n",
        "results_df = pd.DataFrame(results, columns=['cond', 'acc', 'mse'])\n",
        "results_df"
      ],
      "execution_count": 51,
      "outputs": [
        {
          "output_type": "stream",
          "text": [
            "40/40 [==============================] - 0s 302us/sample - loss: 0.0081 - binary_accuracy: 0.9974 - mse: 0.0022\n",
            "40/40 [==============================] - 0s 229us/sample - loss: 0.0108 - binary_accuracy: 0.9954 - mse: 0.0031\n",
            "40/40 [==============================] - 0s 235us/sample - loss: 0.0090 - binary_accuracy: 0.9969 - mse: 0.0024\n",
            "40/40 [==============================] - 0s 306us/sample - loss: 0.0140 - binary_accuracy: 0.9944 - mse: 0.0041\n"
          ],
          "name": "stdout"
        },
        {
          "output_type": "execute_result",
          "data": {
            "text/html": [
              "<div>\n",
              "<style scoped>\n",
              "    .dataframe tbody tr th:only-of-type {\n",
              "        vertical-align: middle;\n",
              "    }\n",
              "\n",
              "    .dataframe tbody tr th {\n",
              "        vertical-align: top;\n",
              "    }\n",
              "\n",
              "    .dataframe thead th {\n",
              "        text-align: right;\n",
              "    }\n",
              "</style>\n",
              "<table border=\"1\" class=\"dataframe\">\n",
              "  <thead>\n",
              "    <tr style=\"text-align: right;\">\n",
              "      <th></th>\n",
              "      <th>cond</th>\n",
              "      <th>acc</th>\n",
              "      <th>mse</th>\n",
              "    </tr>\n",
              "  </thead>\n",
              "  <tbody>\n",
              "    <tr>\n",
              "      <th>0</th>\n",
              "      <td>hf_con</td>\n",
              "      <td>0.997431</td>\n",
              "      <td>0.002167</td>\n",
              "    </tr>\n",
              "    <tr>\n",
              "      <th>1</th>\n",
              "      <td>hf_inc</td>\n",
              "      <td>0.995417</td>\n",
              "      <td>0.003064</td>\n",
              "    </tr>\n",
              "    <tr>\n",
              "      <th>2</th>\n",
              "      <td>lf_con</td>\n",
              "      <td>0.996875</td>\n",
              "      <td>0.002439</td>\n",
              "    </tr>\n",
              "    <tr>\n",
              "      <th>3</th>\n",
              "      <td>lf_inc</td>\n",
              "      <td>0.994444</td>\n",
              "      <td>0.004122</td>\n",
              "    </tr>\n",
              "  </tbody>\n",
              "</table>\n",
              "</div>"
            ],
            "text/plain": [
              "     cond       acc       mse\n",
              "0  hf_con  0.997431  0.002167\n",
              "1  hf_inc  0.995417  0.003064\n",
              "2  lf_con  0.996875  0.002439\n",
              "3  lf_inc  0.994444  0.004122"
            ]
          },
          "metadata": {
            "tags": []
          },
          "execution_count": 51
        }
      ]
    },
    {
      "cell_type": "markdown",
      "metadata": {
        "id": "-yrPlY3wbGY6",
        "colab_type": "text"
      },
      "source": [
        "## Plotting Strain"
      ]
    },
    {
      "cell_type": "code",
      "metadata": {
        "id": "iGWYoBhNabQb",
        "colab_type": "code",
        "outputId": "57bcc9cb-f1a4-4712-9e44-71826f7b5a3f",
        "colab": {
          "base_uri": "https://localhost:8080/",
          "height": 406
        }
      },
      "source": [
        "alt.Chart(results_df).mark_bar().encode(\n",
        "    x='cond',\n",
        "    y='mse',\n",
        "    color=alt.Color('cond'),\n",
        "    tooltip=['cond', 'acc', 'mse']\n",
        ").properties(title='Strain results (Error)').interactive()"
      ],
      "execution_count": 52,
      "outputs": [
        {
          "output_type": "execute_result",
          "data": {
            "text/plain": [
              "alt.Chart(...)"
            ],
            "text/html": [
              "\n",
              "<div id=\"altair-viz-50b423a3ae9743c794513535303a9a7e\"></div>\n",
              "<script type=\"text/javascript\">\n",
              "  (function(spec, embedOpt){\n",
              "    const outputDiv = document.getElementById(\"altair-viz-50b423a3ae9743c794513535303a9a7e\");\n",
              "    const paths = {\n",
              "      \"vega\": \"https://cdn.jsdelivr.net/npm//vega@5?noext\",\n",
              "      \"vega-lib\": \"https://cdn.jsdelivr.net/npm//vega-lib?noext\",\n",
              "      \"vega-lite\": \"https://cdn.jsdelivr.net/npm//vega-lite@4.0.2?noext\",\n",
              "      \"vega-embed\": \"https://cdn.jsdelivr.net/npm//vega-embed@6?noext\",\n",
              "    };\n",
              "\n",
              "    function loadScript(lib) {\n",
              "      return new Promise(function(resolve, reject) {\n",
              "        var s = document.createElement('script');\n",
              "        s.src = paths[lib];\n",
              "        s.async = true;\n",
              "        s.onload = () => resolve(paths[lib]);\n",
              "        s.onerror = () => reject(`Error loading script: ${paths[lib]}`);\n",
              "        document.getElementsByTagName(\"head\")[0].appendChild(s);\n",
              "      });\n",
              "    }\n",
              "\n",
              "    function showError(err) {\n",
              "      outputDiv.innerHTML = `<div class=\"error\" style=\"color:red;\">${err}</div>`;\n",
              "      throw err;\n",
              "    }\n",
              "\n",
              "    function displayChart(vegaEmbed) {\n",
              "      vegaEmbed(outputDiv, spec, embedOpt)\n",
              "        .catch(err => showError(`Javascript Error: ${err.message}<br>This usually means there's a typo in your chart specification. See the javascript console for the full traceback.`));\n",
              "    }\n",
              "\n",
              "    if(typeof define === \"function\" && define.amd) {\n",
              "      requirejs.config({paths});\n",
              "      require([\"vega-embed\"], displayChart, err => showError(`Error loading script: ${err.message}`));\n",
              "    } else if (typeof vegaEmbed === \"function\") {\n",
              "      displayChart(vegaEmbed);\n",
              "    } else {\n",
              "      loadScript(\"vega\")\n",
              "        .then(() => loadScript(\"vega-lite\"))\n",
              "        .then(() => loadScript(\"vega-embed\"))\n",
              "        .catch(showError)\n",
              "        .then(() => displayChart(vegaEmbed));\n",
              "    }\n",
              "  })({\"config\": {\"view\": {\"continuousWidth\": 400, \"continuousHeight\": 300}}, \"data\": {\"name\": \"data-d7f55fec952ce5126ac7fff2790252a4\"}, \"mark\": \"bar\", \"encoding\": {\"color\": {\"type\": \"nominal\", \"field\": \"cond\"}, \"tooltip\": [{\"type\": \"nominal\", \"field\": \"cond\"}, {\"type\": \"quantitative\", \"field\": \"acc\"}, {\"type\": \"quantitative\", \"field\": \"mse\"}], \"x\": {\"type\": \"nominal\", \"field\": \"cond\"}, \"y\": {\"type\": \"quantitative\", \"field\": \"mse\"}}, \"selection\": {\"selector002\": {\"type\": \"interval\", \"bind\": \"scales\", \"encodings\": [\"x\", \"y\"]}}, \"title\": \"Strain results (Error)\", \"$schema\": \"https://vega.github.io/schema/vega-lite/v4.0.2.json\", \"datasets\": {\"data-d7f55fec952ce5126ac7fff2790252a4\": [{\"cond\": \"hf_con\", \"acc\": 0.9974306225776672, \"mse\": 0.002166744787245989}, {\"cond\": \"hf_inc\", \"acc\": 0.9954166412353516, \"mse\": 0.0030635788571089506}, {\"cond\": \"lf_con\", \"acc\": 0.996874988079071, \"mse\": 0.00243932893499732}, {\"cond\": \"lf_inc\", \"acc\": 0.9944444894790649, \"mse\": 0.004121930338442326}]}}, {\"mode\": \"vega-lite\"});\n",
              "</script>"
            ]
          },
          "metadata": {
            "tags": []
          },
          "execution_count": 52
        }
      ]
    },
    {
      "cell_type": "markdown",
      "metadata": {
        "id": "yek3ryK5dC2i",
        "colab_type": "text"
      },
      "source": [
        "## My point is... first model usually won't work well... :P"
      ]
    },
    {
      "cell_type": "markdown",
      "metadata": {
        "id": "LYK5QKz3vodd",
        "colab_type": "text"
      },
      "source": [
        "- [ ] Try swapping training set to \"child\" data\n",
        "- [ ] Try to get human Strain pattern by varying model parameters\n",
        "- [ ] Think about what the psychological meaning in each parameter that you have change"
      ]
    }
  ]
}